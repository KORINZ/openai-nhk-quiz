{
 "cells": [
  {
   "cell_type": "code",
   "execution_count": 3,
   "metadata": {},
   "outputs": [],
   "source": [
    "import chardet\n",
    "import requests\n",
    "import random\n",
    "from bs4 import BeautifulSoup\n",
    "from datetime import datetime"
   ]
  },
  {
   "cell_type": "code",
   "execution_count": 4,
   "metadata": {},
   "outputs": [],
   "source": [
    "def get_random_news_url(news_list_url=\"https://www3.nhk.or.jp/news/easy/top-list.json\") -> str:\n",
    "    \"\"\"Get a random news url from NHK Easy News.\"\"\"\n",
    "    response = requests.get(news_list_url)\n",
    "    data = response.json()[0:4]\n",
    "    news_id = data[random.randint(0, 3)][\"news_id\"]\n",
    "    news_url = \"https://www3.nhk.or.jp/news/easy/\" + news_id + \"/\" + news_id + \".html\"\n",
    "    return news_url\n",
    "\n",
    "\n",
    "def get_news_article(url: str) -> str:\n",
    "    \"\"\"Get the content of the news.\"\"\"\n",
    "    response = requests.get(url)\n",
    "    response.encoding = chardet.detect(response.content)[\"encoding\"]\n",
    "    soup = BeautifulSoup(response.text, \"html.parser\")\n",
    "\n",
    "    title = soup.find(\n",
    "        \"h1\", class_=\"article-main__title\").text.strip()  # type: ignore\n",
    "\n",
    "    date = soup.find(id=\"js-article-date\").text.split(' ')[0]  # type: ignore\n",
    "    # Assume the news is from the current year\n",
    "    date = f\"{datetime.now().year}年{date[1:]}\"\n",
    "\n",
    "    content = soup.find(\n",
    "        id=\"js-article-body\").text.replace(\"\\n\", \"\")  # type: ignore\n",
    "    return \"Title: \" + title + \"\\n\" + \"Date: \" + date + \"\\n\" + \"Content: \" + content"
   ]
  },
  {
   "cell_type": "code",
   "execution_count": 7,
   "metadata": {},
   "outputs": [
    {
     "name": "stdout",
     "output_type": "stream",
     "text": [
      "Title: 東海道新幹線の中で弁当などをワゴンで売ることをやめる\n",
      "Date: 2023年08月10日\n",
      "Content: 東海道新幹線の「のぞみ」と「ひかり」の中では、弁当や飲み物などをワゴンにのせて売るサービスを行っています。JR東海は、このサービスを今年10月31日でやめます。新幹線の中ではなくて、駅の近くの店で買う人が増えたためです。新型コロナウイルスが広がる前の2018年の売り上げは、2008年の半分ぐらいになっていました。これから働く人が足りなくなりそうなことも理由です。会社は、「のぞみ」がとまる駅のホームなどで、飲み物やアイスクリームなどの自動販売機を多くすると言っています。\n"
     ]
    }
   ],
   "source": [
    "print(get_news_article(get_random_news_url()))"
   ]
  }
 ],
 "metadata": {
  "kernelspec": {
   "display_name": "Python 3",
   "language": "python",
   "name": "python3"
  },
  "language_info": {
   "codemirror_mode": {
    "name": "ipython",
    "version": 3
   },
   "file_extension": ".py",
   "mimetype": "text/x-python",
   "name": "python",
   "nbconvert_exporter": "python",
   "pygments_lexer": "ipython3",
   "version": "3.11.4"
  },
  "orig_nbformat": 4
 },
 "nbformat": 4,
 "nbformat_minor": 2
}
